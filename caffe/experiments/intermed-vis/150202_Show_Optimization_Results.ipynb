{
 "metadata": {
  "name": "",
  "signature": "sha256:35ff38856517f188f99fd90a4d9f8b842713da32de5fd89e191c0482dcc7f403"
 },
 "nbformat": 3,
 "nbformat_minor": 0,
 "worksheets": [
  {
   "cells": [
    {
     "cell_type": "code",
     "collapsed": false,
     "input": [
      "%load_ext autoreload\n",
      "%autoreload 2"
     ],
     "language": "python",
     "metadata": {},
     "outputs": []
    },
    {
     "cell_type": "code",
     "collapsed": false,
     "input": [
      "import pylab\n",
      "from pylab import *\n",
      "import pickle\n",
      "%matplotlib inline\n",
      "plt.rcParams['image.interpolation'] = 'nearest'\n",
      "plt.rcParams['image.cmap'] = 'gray'\n",
      "\n",
      "# Make sure that caffe is on the python path:\n",
      "caffe_root = '../../'  # this file is expected to be in {caffe_root}/notebooks\n",
      "import sys\n",
      "sys.path.insert(0, caffe_root + 'python')\n",
      "#import caffe\n",
      "\n",
      "from plotting import *"
     ],
     "language": "python",
     "metadata": {},
     "outputs": []
    },
    {
     "cell_type": "code",
     "collapsed": false,
     "input": [
      "#results_path = 'junk_fc8_info_big.pkl'\n",
      "results_path = 'junk_fc8nd_info_big.pkl'"
     ],
     "language": "python",
     "metadata": {},
     "outputs": []
    },
    {
     "cell_type": "code",
     "collapsed": false,
     "input": [
      "with open(results_path, 'rb') as ff:\n",
      "    params,results = pickle.load(ff)"
     ],
     "language": "python",
     "metadata": {},
     "outputs": []
    },
    {
     "cell_type": "code",
     "collapsed": false,
     "input": [
      "print params, results"
     ],
     "language": "python",
     "metadata": {},
     "outputs": []
    },
    {
     "cell_type": "code",
     "collapsed": false,
     "input": [
      "figsize(15,8)\n",
      "plot(results.ii, array(results.obj) * 100)\n",
      "plot(results.ii, results.dist)\n",
      "plot(results.ii, results.norm)\n",
      "#plot(results.ii, results.std)\n",
      "legend(('obj', 'dist', 'norm'))"
     ],
     "language": "python",
     "metadata": {},
     "outputs": []
    },
    {
     "cell_type": "code",
     "collapsed": false,
     "input": [
      "subplot(1,3,1)\n",
      "showimagesc(results.x0, c01=True, bgr=True)\n",
      "title('0')\n",
      "subplot(1,3,2)\n",
      "showimagesc(results.majority_xx, c01=True, bgr=True)\n",
      "title('%s' % results.majority_ii)\n",
      "subplot(1,3,3)\n",
      "showimagesc(results.best_xx, c01=True, bgr=True)\n",
      "title('%s' % results.best_ii)"
     ],
     "language": "python",
     "metadata": {},
     "outputs": []
    },
    {
     "cell_type": "code",
     "collapsed": false,
     "input": [],
     "language": "python",
     "metadata": {},
     "outputs": []
    }
   ],
   "metadata": {}
  }
 ]
}