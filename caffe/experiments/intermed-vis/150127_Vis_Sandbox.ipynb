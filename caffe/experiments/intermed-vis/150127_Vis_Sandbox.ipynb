{
 "metadata": {
  "name": "",
  "signature": "sha256:a49b81be187056c136115a5021ec484289602ed9730f3e5e5e82c7e84488f4a3"
 },
 "nbformat": 3,
 "nbformat_minor": 0,
 "worksheets": [
  {
   "cells": [
    {
     "cell_type": "heading",
     "level": 1,
     "metadata": {},
     "source": [
      "Setup"
     ]
    },
    {
     "cell_type": "code",
     "collapsed": false,
     "input": [
      "%autoreload 2\n",
      "%load_ext autoreload"
     ],
     "language": "python",
     "metadata": {},
     "outputs": []
    },
    {
     "cell_type": "code",
     "collapsed": false,
     "input": [
      "import pylab\n",
      "from pylab import *\n",
      "from collections import OrderedDict\n",
      "import pickle\n",
      "%matplotlib inline\n",
      "plt.rcParams['image.interpolation'] = 'nearest'\n",
      "plt.rcParams['image.cmap'] = 'gray'\n",
      "\n",
      "# Make sure that caffe is on the python path:\n",
      "caffe_root = '../../'  # this file is expected to be in {caffe_root}/notebooks\n",
      "import sys\n",
      "sys.path.insert(0, caffe_root + 'python')\n",
      "import caffe"
     ],
     "language": "python",
     "metadata": {},
     "outputs": []
    },
    {
     "cell_type": "code",
     "collapsed": false,
     "input": [
      "from localdefs import *\n",
      "from plotting import *\n",
      "from caffe_misc import *\n",
      "from jby_misc import *"
     ],
     "language": "python",
     "metadata": {},
     "outputs": []
    },
    {
     "cell_type": "code",
     "collapsed": false,
     "input": [
      "# Define paths\n",
      "load_dir = '/home/jyosinsk/results/140311_234854_afadfd3_priv_netbase_upgraded/'\n",
      "model_def_file = load_dir + 'deploy_1.prototxt'\n",
      "pretrained_model = load_dir + 'caffe_imagenet_train_iter_450000'\n",
      "\n",
      "#dataset_file = '/home/jyosinsk/s/caffe/data/ilsvrc12/data/whole_train/files.txt'\n",
      "#dataset_dir  = '/home/jyosinsk/imagenet2012/train/'\n",
      "dataset_file = '/home/jyosinsk/s/caffe/data/ilsvrc12/data/whole_valid/files.txt'\n",
      "dataset_dir  = '/home/jyosinsk/imagenet2012/val/'"
     ],
     "language": "python",
     "metadata": {},
     "outputs": []
    },
    {
     "cell_type": "heading",
     "level": 1,
     "metadata": {},
     "source": [
      "Load labels, mean, and trained network"
     ]
    },
    {
     "cell_type": "code",
     "collapsed": false,
     "input": [
      "# Load labels\n",
      "\n",
      "with open(caffe_root + '/data/ilsvrc12/synset_words.txt') as ff:\n",
      "    labels = [line.strip() for line in ff.readlines()]\n",
      "\n",
      "def get_image_info(dataset_file):\n",
      "    with open(dataset_file) as ff:\n",
      "        lines = [line.strip().split() for line in ff.readlines()]\n",
      "    image_info = {}\n",
      "    for line in lines:\n",
      "        filename = line[0]\n",
      "        label = int(line[1])\n",
      "        dict_for_label = image_info.setdefault(label,{'classname':labels[label], 'files':[]})\n",
      "        dict_for_label['files'].append(filename)\n",
      "    #filenames = [line[0] for line in lines]\n",
      "    #classlabels = [int(line[1]) for line in lines]\n",
      "    #image_info = [(ff,ll) for (ff,ll) in zip(filenames, classlabels)]\n",
      "    \n",
      "    return image_info\n",
      "\n",
      "image_info = get_image_info(dataset_file)"
     ],
     "language": "python",
     "metadata": {},
     "outputs": []
    },
    {
     "cell_type": "code",
     "collapsed": false,
     "input": [
      "print 'First image in first few classes:'\n",
      "for ii in range(5):\n",
      "    print '  %d: %s' % (ii, image_info[ii]['classname'])\n",
      "    print '   ', image_info[ii]['files'][0]"
     ],
     "language": "python",
     "metadata": {},
     "outputs": []
    },
    {
     "cell_type": "code",
     "collapsed": false,
     "input": [
      "# Load mean\n",
      "\n",
      "imagenet_mean = np.load(caffe_root + 'python/caffe/imagenet/ilsvrc_2012_mean.npy')\n",
      "imagenet_mean = imagenet_mean[:, 14:14+227, 14:14+227]\n",
      "print imagenet_mean.shape\n",
      "print imagenet_mean.min(), imagenet_mean.max()\n",
      "showimage(imagenet_mean[::-1]/255, c01=True)       # Color order is BGR, reverse to RGB before plotting"
     ],
     "language": "python",
     "metadata": {},
     "outputs": []
    },
    {
     "cell_type": "code",
     "collapsed": false,
     "input": [
      "# Load network\n",
      "\n",
      "net = caffe.Classifier(model_def_file, pretrained_model,\n",
      "                       #mean=inmean,\n",
      "                       #channel_swap=(2,1,0),\n",
      "                       #raw_scale=255.0,\n",
      "                       #image_dims=(256, 256),\n",
      "                       )\n",
      "net.set_phase_test()\n",
      "net.set_mode_cpu()"
     ],
     "language": "python",
     "metadata": {},
     "outputs": []
    },
    {
     "cell_type": "heading",
     "level": 1,
     "metadata": {},
     "source": [
      "Load an image"
     ]
    },
    {
     "cell_type": "code",
     "collapsed": false,
     "input": [
      "def load_image(filename):\n",
      "    image = caffe.io.load_image(filename)   # produces an image in [0,1]\n",
      "    return image\n",
      "\n",
      "def resize_and_scale(image, size = (227,227), scale = 255):\n",
      "    im = caffe.io.resize_image(image, (227,227))\n",
      "    im = norm01(im) * scale\n",
      "    return im"
     ],
     "language": "python",
     "metadata": {},
     "outputs": []
    },
    {
     "cell_type": "code",
     "collapsed": false,
     "input": [
      "#image_filename = caffe_root + 'examples/images/cat.jpg'\n",
      "#image_filename = caffe_root + 'examples/images/lion.jpg'\n",
      "\n",
      "class_id = 291\n",
      "image_index = 0\n",
      "\n",
      "filename = dataset_dir + image_info[class_id]['files'][image_index]\n",
      "image_large = load_image(filename)\n",
      "image = resize_and_scale(image_large)\n",
      "figsize(12,5)\n",
      "\n",
      "print 'Filename:', filename\n",
      "print 'Loaded image %d from class %d (%s)' % (image_index, class_id, image_info[class_id]['classname'])\n",
      "print 'Image has shape %s and values in [%g,%g]' % (image.shape, image.min(), image.max())\n",
      "showimagesc(image)"
     ],
     "language": "python",
     "metadata": {},
     "outputs": []
    },
    {
     "cell_type": "code",
     "collapsed": false,
     "input": [
      "# image is:                                            (227,227,3), RGB order, [0,255]\n",
      "tmp = image.transpose((2,0,1))[newaxis, ::-1, : :]   # (1,3,227,227), BGR order [0,255]\n",
      "data_blob = tmp - imagenet_mean                      # 0-centered\n",
      "print 'data_blob has shape %s and values in [%g,%g]' % (data_blob.shape, data_blob.min(), data_blob.max())"
     ],
     "language": "python",
     "metadata": {},
     "outputs": []
    },
    {
     "cell_type": "heading",
     "level": 1,
     "metadata": {},
     "source": [
      "Forward prop and plot"
     ]
    },
    {
     "cell_type": "code",
     "collapsed": false,
     "input": [
      "# Show network\n",
      "shownet(net)"
     ],
     "language": "python",
     "metadata": {},
     "outputs": []
    },
    {
     "cell_type": "code",
     "collapsed": false,
     "input": [
      "# Forward prop\n",
      "out = net.forward_all(data = data_blob)"
     ],
     "language": "python",
     "metadata": {},
     "outputs": []
    },
    {
     "cell_type": "code",
     "collapsed": false,
     "input": [
      "figsize(12,5)\n",
      "plot(out['prob'].flatten())\n",
      "iimax = out['prob'].argmax()\n",
      "plot(iimax, out['prob'].flatten()[iimax], 'ro')\n",
      "_=title('Max at idx %d (%s)' % (iimax, labels[iimax]))"
     ],
     "language": "python",
     "metadata": {},
     "outputs": []
    },
    {
     "cell_type": "code",
     "collapsed": false,
     "input": [
      "# Show activations throughout the network\n",
      "shownet(net)"
     ],
     "language": "python",
     "metadata": {},
     "outputs": []
    },
    {
     "cell_type": "code",
     "collapsed": false,
     "input": [
      "blob_name = 'conv5'\n",
      "\n",
      "blob = net.blobs[blob_name].data\n",
      "print blob_name, 'has shape', blob.shape\n",
      "\n",
      "figsize(12,12)\n",
      "imshow(tile_images(blob[0], padval = 1))"
     ],
     "language": "python",
     "metadata": {},
     "outputs": []
    },
    {
     "cell_type": "code",
     "collapsed": false,
     "input": [],
     "language": "python",
     "metadata": {},
     "outputs": []
    },
    {
     "cell_type": "code",
     "collapsed": false,
     "input": [
      "%connect_info"
     ],
     "language": "python",
     "metadata": {},
     "outputs": []
    }
   ],
   "metadata": {}
  }
 ]
}